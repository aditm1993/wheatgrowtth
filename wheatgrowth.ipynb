{
 "cells": [
  {
   "cell_type": "code",
   "execution_count": null,
   "metadata": {},
   "outputs": [],
   "source": [
    "# import Libraries\n",
    "import random\n",
    "import os\n",
    "import gc\n",
    "import random\n",
    "random.seed(3)\n",
    "from pydrive.auth import GoogleAuth\n",
    "from pydrive.drive import GoogleDrive\n",
    "from google.colab import auth\n",
    "from oauth2client.client import GoogleCredentials\n",
    "import pandas as pd\n",
    "!pip install -q --upgrade fastcore \n",
    "!pip install -q --upgrade fastai # Make sure we have the latest fastai\n",
    "import pandas as pd\n",
    "from matplotlib import pyplot as plt\n",
    "from PIL import Image as PImage # TO avoid confusion later\n",
    "from fastai.vision.all import *\n"
   ]
  },
  {
   "cell_type": "code",
   "execution_count": null,
   "metadata": {},
   "outputs": [],
   "source": [
    "# Getting Google Credentials and Authentication\n",
    "auth.authenticate_user()\n",
    "gauth = GoogleAuth()\n",
    "gauth.credentials = GoogleCredentials.get_application_default()\n",
    "drive = GoogleDrive(gauth)"
   ]
  },
  {
   "cell_type": "code",
   "execution_count": null,
   "metadata": {},
   "outputs": [],
   "source": [
    "# mount Google Drive\n",
    "from google.colab import drive\n",
    "drive.mount('/content/gdrive')"
   ]
  },
  {
   "cell_type": "code",
   "execution_count": null,
   "metadata": {},
   "outputs": [],
   "source": [
    "# unzipping files\n",
    "!unzip \"/content/gdrive/My Drive/CGIAR_Wheat_SampleSubmission.zip\"\n",
    "!unzip \"/content/gdrive/My Drive/CGIAR_Wheat_Train_Dataset.zip\"\n",
    "!unzip \"/content/gdrive/My Drive/Images.zip\""
   ]
  },
  {
   "cell_type": "code",
   "execution_count": null,
   "metadata": {},
   "outputs": [],
   "source": [
    "# Use only high quality images \n",
    "train = pd.read_csv('Train.csv')\n",
    "train.head(5)\n",
    "train_hq = train[train['label_quality']== 2]\n",
    "train_hq.head(2)"
   ]
  },
  {
   "cell_type": "code",
   "execution_count": null,
   "metadata": {},
   "outputs": [],
   "source": [
    "#high quality data labels\n",
    "train_hq.growth_stage.unique()"
   ]
  },
  {
   "cell_type": "code",
   "execution_count": null,
   "metadata": {},
   "outputs": [],
   "source": [
    "# image transformation\n",
    " \n",
    "# # Image Augmentation used for Densenet201 and  lr_max = slice (10e-7, 10e-6) with 40 epochs\n",
    "# tfms = setup_aug_tfms([Brightness(max_lighting=0.9, p=1.,),\n",
    "#                        CropPad(size=256),\n",
    "#                        Zoom(max_zoom=1.5, p=0.5),\n",
    "#                        Warp(magnitude=0.5, p=0.5)\n",
    "#                       ])\n",
    "\n",
    "\n",
    "# Image Augmentation used for Resnet50 and lr_max = slice (3e-6) with 40 epochs\n",
    "tfms = setup_aug_tfms([Rotate(max_deg=15, p=1.),\n",
    "            RandomResizedCrop(p=1., size=256),\n",
    "            Brightness(max_lighting=1.0, p=0.4),\n",
    "            CropPad(size=256),\n",
    "            Zoom(max_zoom=1.0, p=0.2,\n",
    "            Warp(magnitude=0.2, p=0.2)\n",
    "            ])\n",
    "\n",
    "\n",
    "# # Image Augmentation used for Vgg16_bn and lr_max = slice (10e-6) with 40 epochs\n",
    "# tfms = setup_aug_tfms([Brightness(max_lighting=0.9, p=1.,),\n",
    "#                        CropPad(size=256),\n",
    "#                        Zoom(max_zoom=1.1, p=0.5),\n",
    "#                        Warp(magnitude=0.2, p=0.5)\n",
    "#                       ])\n",
    "\n"
   ]
  },
  {
   "cell_type": "code",
   "execution_count": null,
   "metadata": {},
   "outputs": [],
   "source": [
    "\n",
    "# Create our dataloaders\n",
    "dls = ImageDataLoaders.from_df(train_train, # train_hq if you only want the smaller high-quality set of images\n",
    "                               path='Images/', \n",
    "                               suff='.jpeg', \n",
    "                               label_col='growth_stage', item_tfms=Resize(224), \n",
    "                               y_block=RegressionBlock ,\n",
    "                               batch_tfms = tfms) #The only other change!\n",
    "dls.show_batch()\n"
   ]
  },
  {
   "cell_type": "code",
   "execution_count": null,
   "metadata": {},
   "outputs": [],
   "source": [
    "# Training the model\n",
    "learn = cnn_learner(dls, resnet50, metrics=rmse, pretrained=True).to_fp16()\n",
    "learn.fine_tune(70) "
   ]
  },
  {
   "cell_type": "code",
   "execution_count": null,
   "metadata": {},
   "outputs": [],
   "source": [
    "#training and validation loss\n",
    "learn.recorder.plot_loss()"
   ]
  },
  {
   "cell_type": "code",
   "execution_count": null,
   "metadata": {},
   "outputs": [],
   "source": [
    "#unfreeze last layer and find optimum learning rate\n",
    "learn.unfreeze()\n",
    "learn.lr_find()"
   ]
  },
  {
   "cell_type": "code",
   "execution_count": null,
   "metadata": {},
   "outputs": [],
   "source": [
    "#train last layer only\n",
    "learn.fit_one_cycle(40, lr_max=slice(10e-7, 10e-5))"
   ]
  },
  {
   "cell_type": "code",
   "execution_count": null,
   "metadata": {},
   "outputs": [],
   "source": [
    "#prediction for submission file\n",
    "# Making test dataloader and Test Time Augementation\n",
    "ss = pd.read_csv('SampleSubmission.csv')\n",
    "tdl = learn.dls.test_dl(ss) # Make test dataloader\n",
    "preds = learn.tta(dl=tdl) # Test Time Augmentation"
   ]
  },
  {
   "cell_type": "code",
   "execution_count": null,
   "metadata": {},
   "outputs": [],
   "source": []
  },
  {
   "cell_type": "code",
   "execution_count": null,
   "metadata": {},
   "outputs": [],
   "source": []
  },
  {
   "cell_type": "code",
   "execution_count": null,
   "metadata": {},
   "outputs": [],
   "source": []
  }
 ],
 "metadata": {
  "kernelspec": {
   "display_name": "Python 3",
   "language": "python",
   "name": "python3"
  },
  "language_info": {
   "codemirror_mode": {
    "name": "ipython",
    "version": 3
   },
   "file_extension": ".py",
   "mimetype": "text/x-python",
   "name": "python",
   "nbconvert_exporter": "python",
   "pygments_lexer": "ipython3",
   "version": "3.9.1"
  }
 },
 "nbformat": 4,
 "nbformat_minor": 4
}
